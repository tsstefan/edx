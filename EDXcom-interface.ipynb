{
 "cells": [
  {
   "cell_type": "code",
   "execution_count": 5,
   "metadata": {},
   "outputs": [],
   "source": [
    "import win32com.client\n"
   ]
  },
  {
   "cell_type": "code",
   "execution_count": 8,
   "metadata": {
    "scrolled": true
   },
   "outputs": [],
   "source": [
    "App = win32com.client.Dispatch(\"SignalPro.Application\")\n",
    "#App.Visible = 1\n",
    "\n",
    "projectName = \"C:/Users/stefa/Documents/EDX/projects/test\"\n",
    "latitude = 39.984242 \n",
    "longitude = -105.196854\n",
    "elevation = 0\n",
    "template = 0\n",
    "\n",
    "Prj = App.ActiveProject\n",
    "if Prj.Open(projectName) == 0:\n",
    "    print(\"Couldn't open project: \" + projectName + \"\\n\")\n",
    "else:\n",
    "    RFSystems = Prj.RFSystems\n",
    "    Sites = RFSystems.Sites\n",
    "    Sites.Add(latitude, longitude, elevation, template)\n",
    "    \n",
    "    Studies = Prj.Studies\n",
    "    Views = Studies.Views\n",
    "    View = Views.GetCurrentView()\n",
    "    \n",
    "    AreaStudies = View.AreaStudies\n",
    "    #AreaStudies.AddStudy()\n",
    "    \n",
    "    #AreaStudy.Run()\n",
    "    \n",
    "    #AreaStudy.Export(False, \"C:/Users/stefa/Documents/EDX/projects/test.KMZ\", True)\n",
    "\n",
    "    #AreaStudy = None\n",
    "    RFSystems = None\n",
    "    Sites = None\n",
    "    AreaStudies = None\n",
    "    View = None\n",
    "    Views = None\n",
    "    Studies = None\n",
    "    \n",
    "Prj.Close()\n",
    "App.Quit()"
   ]
  },
  {
   "cell_type": "code",
   "execution_count": 4,
   "metadata": {},
   "outputs": [
    {
     "name": "stdout",
     "output_type": "stream",
     "text": [
      "Press ENTER to quit:\n"
     ]
    },
    {
     "ename": "AttributeError",
     "evalue": "'<win32com.gen_py.EDX SignalPro.IEDXApplication instance at 0x3188920649184>' object has no attribute 'Application'",
     "output_type": "error",
     "traceback": [
      "\u001b[1;31m---------------------------------------------------------------------------\u001b[0m",
      "\u001b[1;31mAttributeError\u001b[0m                            Traceback (most recent call last)",
      "\u001b[1;32m<ipython-input-4-76a4dedf29bd>\u001b[0m in \u001b[0;36m<module>\u001b[1;34m\u001b[0m\n\u001b[0;32m      5\u001b[0m \u001b[0m_\u001b[0m \u001b[1;33m=\u001b[0m \u001b[0minput\u001b[0m\u001b[1;33m(\u001b[0m\u001b[1;34m\"Press ENTER to quit:\"\u001b[0m\u001b[1;33m)\u001b[0m\u001b[1;33m\u001b[0m\u001b[1;33m\u001b[0m\u001b[0m\n\u001b[0;32m      6\u001b[0m \u001b[1;33m\u001b[0m\u001b[0m\n\u001b[1;32m----> 7\u001b[1;33m \u001b[0mexcel\u001b[0m\u001b[1;33m.\u001b[0m\u001b[0mApplication\u001b[0m\u001b[1;33m.\u001b[0m\u001b[0mQuit\u001b[0m\u001b[1;33m(\u001b[0m\u001b[1;33m)\u001b[0m\u001b[1;33m\u001b[0m\u001b[1;33m\u001b[0m\u001b[0m\n\u001b[0m",
      "\u001b[1;32m~\\Anaconda3\\envs\\win32\\lib\\site-packages\\win32com\\client\\__init__.py\u001b[0m in \u001b[0;36m__getattr__\u001b[1;34m(self, attr)\u001b[0m\n\u001b[0;32m    471\u001b[0m                 \u001b[0margs\u001b[0m\u001b[1;33m=\u001b[0m\u001b[0mself\u001b[0m\u001b[1;33m.\u001b[0m\u001b[0m_prop_map_get_\u001b[0m\u001b[1;33m.\u001b[0m\u001b[0mget\u001b[0m\u001b[1;33m(\u001b[0m\u001b[0mattr\u001b[0m\u001b[1;33m)\u001b[0m\u001b[1;33m\u001b[0m\u001b[1;33m\u001b[0m\u001b[0m\n\u001b[0;32m    472\u001b[0m                 \u001b[1;32mif\u001b[0m \u001b[0margs\u001b[0m \u001b[1;32mis\u001b[0m \u001b[1;32mNone\u001b[0m\u001b[1;33m:\u001b[0m\u001b[1;33m\u001b[0m\u001b[1;33m\u001b[0m\u001b[0m\n\u001b[1;32m--> 473\u001b[1;33m                         \u001b[1;32mraise\u001b[0m \u001b[0mAttributeError\u001b[0m\u001b[1;33m(\u001b[0m\u001b[1;34m\"'%s' object has no attribute '%s'\"\u001b[0m \u001b[1;33m%\u001b[0m \u001b[1;33m(\u001b[0m\u001b[0mrepr\u001b[0m\u001b[1;33m(\u001b[0m\u001b[0mself\u001b[0m\u001b[1;33m)\u001b[0m\u001b[1;33m,\u001b[0m \u001b[0mattr\u001b[0m\u001b[1;33m)\u001b[0m\u001b[1;33m)\u001b[0m\u001b[1;33m\u001b[0m\u001b[1;33m\u001b[0m\u001b[0m\n\u001b[0m\u001b[0;32m    474\u001b[0m                 \u001b[1;32mreturn\u001b[0m \u001b[0mself\u001b[0m\u001b[1;33m.\u001b[0m\u001b[0m_ApplyTypes_\u001b[0m\u001b[1;33m(\u001b[0m\u001b[1;33m*\u001b[0m\u001b[0margs\u001b[0m\u001b[1;33m)\u001b[0m\u001b[1;33m\u001b[0m\u001b[1;33m\u001b[0m\u001b[0m\n\u001b[0;32m    475\u001b[0m \u001b[1;33m\u001b[0m\u001b[0m\n",
      "\u001b[1;31mAttributeError\u001b[0m: '<win32com.gen_py.EDX SignalPro.IEDXApplication instance at 0x3188920649184>' object has no attribute 'Application'"
     ]
    }
   ],
   "source": [
    "import win32com.client as win32\n",
    "excel = win32.gencache.EnsureDispatch('SignalPro.Application')\n",
    "\n",
    "excel.Visible = True\n",
    "_ = input(\"Press ENTER to quit:\")\n",
    "\n",
    "excel.Application.Quit()"
   ]
  },
  {
   "cell_type": "code",
   "execution_count": 5,
   "metadata": {},
   "outputs": [],
   "source": [
    "rval = excel.Quit()"
   ]
  },
  {
   "cell_type": "code",
   "execution_count": null,
   "metadata": {},
   "outputs": [],
   "source": [
    "\"\"\" This is a simple Python example script that demonstrates the\n",
    "    EDX software COM interface.\n",
    "\"\"\"\n",
    "# This is a simple Python example script that demonstrates the\n",
    "# EDX software COM interface.  It uses SignalPro to open a project,\n",
    "# then runs all the area studies in the current view, a point study\n",
    "# to the reference cursor, and a route study with a route defined in the project.\n",
    "#\n",
    "#For details on python in Win32 see \"Python Programming on Win32\", Hammond & Robinson,\n",
    "#O'Reilly Press.\n",
    "\n",
    "# Note:  Must clean up every returned COM object using 'None'\n",
    "\n",
    "# Necessary initialization to use COM objects in Python\n",
    "import win32com.client\n",
    "import sys\n",
    "import os.path\n",
    "\n",
    "# A function to check whether a directory is a valid project\n",
    "def IsProject(dir):\n",
    "    if os.path.exists(dir) and os.path.isdir(dir):\n",
    "        fullpath = os.path.join(os.path.abspath(dir), \"project.prj.xml\")\n",
    "        return os.path.exists(fullpath)\n",
    "    else:\n",
    "        return 0\n",
    "\n",
    "def RunDemo(dir):\n",
    "    # Create an Application object\n",
    "    PROGID = \"SignalPro.Application\"\n",
    "    App = win32com.client.Dispatch(PROGID)\n",
    "\n",
    "    # create a Project object\n",
    "    prj = App.ActiveProject\n",
    "\n",
    "    # use the Project object to open the project\n",
    "    if IsProject(dir) and prj.Open(dir):\n",
    "        # open succeeded\n",
    "        # run all area studies in the current view\n",
    "        Studies = prj.Studies\n",
    "        Views = Studies.Views\n",
    "        View = Views.GetCurrentView()\n",
    "        View.RunAllStudies()\n",
    "        # Get data values for a specific point in the first study.\n",
    "        theAreaStudy = View.AreaStudies[0]\n",
    "        latitude = 44.044121\n",
    "        longitude = -123.102064\n",
    "        # Get data for servers 1, 2, and 3.\n",
    "        server1 = theAreaStudy.GetStudyTx(1, latitude, longitude)\n",
    "        server2 = theAreaStudy.GetStudyTx(2, latitude, longitude)\n",
    "        server3 = theAreaStudy.GetStudyTx(3, latitude, longitude)\n",
    "        signalResult1 = theAreaStudy.GetStudyValue(1, latitude, longitude)\n",
    "        signalResult2 = theAreaStudy.GetStudyValue(2, latitude, longitude)\n",
    "        signalResult3 = theAreaStudy.GetStudyValue(3, latitude, longitude)\n",
    "        # Print out server results\n",
    "        print(\"Server 1: %s   Result: %f\"%(server1, signalResult1))\n",
    "        print(\"Server 2: %s   Result: %f\"%(server2, signalResult2))\n",
    "        print(\"Server 2: %s   Result: %f\"%(server3, signalResult3))\n",
    "        # run a point study at the specified WGS84 latitude,longitude\n",
    "        # or at the reference cursor if the point is invalid\n",
    "        # Must have an active focus transmitter to run.\n",
    "        #prj.Studies.PointStudy(999.0, 999.0);\n",
    "        #run a route study\n",
    "        #prj.Studies.RouteStudy();\n",
    "        theAreaStudy = None\n",
    "        View = None\n",
    "        Views = None\n",
    "        Studies = None\n",
    "    else:\n",
    "        # open failed\n",
    "        print(\"Couldn't open project: %s\\n\"%(dir,))\n",
    "\n",
    "\n",
    "    # cleanup\n",
    "    prj.Close()\n",
    "    #prj.AppClose()\n",
    "    App.Quit()\n",
    "    prj = None\n",
    "    App = None\n",
    "\n",
    "\n",
    "if __name__ == \"__main__\": #if it's being run as a script\n",
    "    if len(sys.argv) == 2:\n",
    "        RunDemo(sys.argv[1])\n",
    "    else:\n",
    "        print(\"Usage: python comexample.py projectname\")\n",
    "        sys.exit(1)\n"
   ]
  },
  {
   "cell_type": "code",
   "execution_count": 9,
   "metadata": {},
   "outputs": [
    {
     "name": "stdout",
     "output_type": "stream",
     "text": [
      "C:/Users/stefa/Documents/EDX/projects/testmodel\n"
     ]
    }
   ],
   "source": [
    "path = \"C:/Users/stefa/Documents/EDX/projects/\"\n",
    "projectName = \"testmodel\"\n",
    "\n",
    "total = path + projectName\n",
    "\n",
    "print(total)"
   ]
  },
  {
   "cell_type": "code",
   "execution_count": null,
   "metadata": {},
   "outputs": [],
   "source": []
  }
 ],
 "metadata": {
  "kernelspec": {
   "display_name": "Python 3",
   "language": "python",
   "name": "python3"
  },
  "language_info": {
   "codemirror_mode": {
    "name": "ipython",
    "version": 3
   },
   "file_extension": ".py",
   "mimetype": "text/x-python",
   "name": "python",
   "nbconvert_exporter": "python",
   "pygments_lexer": "ipython3",
   "version": "3.9.1"
  }
 },
 "nbformat": 4,
 "nbformat_minor": 4
}
